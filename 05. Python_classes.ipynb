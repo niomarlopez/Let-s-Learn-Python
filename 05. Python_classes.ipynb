{
 "cells": [
  {
   "cell_type": "markdown",
   "id": "a5d1cbcc-e52f-49b8-ad65-1dacba7922ed",
   "metadata": {},
   "source": [
    "# Python Module 4a: Classes, Objects"
   ]
  },
  {
   "cell_type": "markdown",
   "id": "0b628fcb-152a-4c7b-87b2-9c5e735dcaba",
   "metadata": {},
   "source": [
    "### Class and Instance of a Class "
   ]
  },
  {
   "cell_type": "code",
   "execution_count": 1,
   "id": "c66bf59b-c251-4ad3-ad83-f3a9e9f7edd0",
   "metadata": {},
   "outputs": [],
   "source": [
    "class dog:\n",
    "    \n",
    "    def __init__(self, name, weight, age):  \n",
    "        self.name = name\n",
    "        self.weight = weight\n",
    "        self.age = age\n"
   ]
  },
  {
   "cell_type": "markdown",
   "id": "d8fddda5-c21c-4545-a535-85f153f03455",
   "metadata": {},
   "source": [
    "**Instantiation**"
   ]
  },
  {
   "cell_type": "markdown",
   "id": "fdcfb22c-fe78-40f9-85b8-9ee03f064237",
   "metadata": {},
   "source": [
    "Initialize (instantiate) a new object with characteristics unique to each instance"
   ]
  },
  {
   "cell_type": "code",
   "execution_count": 6,
   "id": "bce8bdb9-e134-47cf-a19b-d04fe2e2d1b1",
   "metadata": {},
   "outputs": [],
   "source": [
    "comet=dog('comet', 68, 5)"
   ]
  },
  {
   "cell_type": "code",
   "execution_count": 20,
   "id": "cdc9ecbd-7c66-42be-8011-026f2cf10fb7",
   "metadata": {},
   "outputs": [
    {
     "name": "stdout",
     "output_type": "stream",
     "text": [
      "comet\n"
     ]
    }
   ],
   "source": [
    "print (comet.name)"
   ]
  },
  {
   "cell_type": "code",
   "execution_count": 9,
   "id": "0cc21ab3-3fab-4275-b309-0a78865b0c33",
   "metadata": {},
   "outputs": [
    {
     "name": "stdout",
     "output_type": "stream",
     "text": [
      "5\n"
     ]
    }
   ],
   "source": [
    "print (comet.age)"
   ]
  },
  {
   "cell_type": "code",
   "execution_count": 11,
   "id": "1b2ba209-89bd-41eb-b306-c9e0c39620f1",
   "metadata": {},
   "outputs": [
    {
     "name": "stdout",
     "output_type": "stream",
     "text": [
      "In human years comet is 35\n"
     ]
    }
   ],
   "source": [
    "human_age = comet.age * 7\n",
    "print (\"In human years\", comet.name, \"is\", human_age)"
   ]
  },
  {
   "cell_type": "code",
   "execution_count": 21,
   "id": "21036b30-3658-4eb6-9bab-4d1a6306d410",
   "metadata": {},
   "outputs": [],
   "source": [
    "## Or we can make the human_years transformation a part of the class, so it can be used for any dog"
   ]
  },
  {
   "cell_type": "code",
   "execution_count": 22,
   "id": "4f508ce0-9ef3-479f-819d-02232d144154",
   "metadata": {},
   "outputs": [],
   "source": [
    "class dog:\n",
    "    \n",
    "    def __init__(self, name, weight, age):   #the instance is called self by convention, name is arbitrary\n",
    "        self.name = name\n",
    "        self.weight = weight\n",
    "        self.age = age\n",
    "        \n",
    "    def human_years(self):\n",
    "        return self.age*7\n",
    "    "
   ]
  },
  {
   "cell_type": "code",
   "execution_count": 23,
   "id": "27f083ae-5018-430a-bc19-47c97e394744",
   "metadata": {},
   "outputs": [],
   "source": [
    "jack=dog('jack', 70, 2)"
   ]
  },
  {
   "cell_type": "code",
   "execution_count": 26,
   "id": "3b4b61e9-32ae-4396-9dce-e04739ab5311",
   "metadata": {},
   "outputs": [
    {
     "name": "stdout",
     "output_type": "stream",
     "text": [
      "jack is 14 in human years\n"
     ]
    }
   ],
   "source": [
    "print (jack.name, \"is\", jack.human_years(), \"in human years\")"
   ]
  },
  {
   "cell_type": "markdown",
   "id": "025575f0-a038-4bff-b9d0-b4153b414bb5",
   "metadata": {},
   "source": [
    "The instantiation operation (“calling” a class object) creates an empty object. Many classes like to create objects with instances customized to a specific initial state. Therefore a class may define a special method named __init__() , like this: def __init__(self): self."
   ]
  },
  {
   "cell_type": "code",
   "execution_count": 15,
   "id": "c289fc23-1849-44d0-b11e-c95e3e108f9a",
   "metadata": {},
   "outputs": [],
   "source": [
    "class Employee:\n",
    "    \n",
    "    def __init__(self, first, last, pay):   #the instance is called self by convention, name is arbitrary\n",
    "        self.first = first\n",
    "        self.last = last\n",
    "        self.pay = pay\n",
    "        self.email = first + \".\" + last + \"@fullstackacademy.com\" #email doesn't require explicit input"
   ]
  },
  {
   "cell_type": "markdown",
   "id": "a7a87bd0-3471-417f-b4d1-4a23c8684477",
   "metadata": {},
   "source": [
    "**Adding Attributes**\n",
    "\n",
    "attribute: A value associated with an object which is referenced by name using dotted expressions. For example, if an object o has an attribute a it would be referenced as o.a"
   ]
  },
  {
   "cell_type": "code",
   "execution_count": 1,
   "id": "a3b7067b-1178-4231-afe2-8b6a942b2773",
   "metadata": {},
   "outputs": [],
   "source": [
    "class Employee:\n",
    "    \n",
    "    def __init__(self, first, last, pay):   #the instance is called self by convention, name is arbitrary\n",
    "        self.first = first\n",
    "        self.last = last\n",
    "        self.pay = pay\n",
    "        self.email = first + \".\" + last + \"@fullstackacademy.com\" #email doesn't require explicit input\n",
    "        \n",
    "emp_1 = Employee(\"Bob\",\"Hoskins\",50000)   #emp_1 is set as self and doesn't need to be passed in\n",
    "emp_2 = Employee(\"Lucy\", \"Lawless\",80000)\n",
    "emp_3 = Employee(\"Peter\", \"Griffin\",1000000)"
   ]
  },
  {
   "cell_type": "code",
   "execution_count": 2,
   "id": "5411232e-8544-4518-ba23-e669a0d99218",
   "metadata": {},
   "outputs": [
    {
     "name": "stdout",
     "output_type": "stream",
     "text": [
      "<__main__.Employee object at 0x000001E6B24A5090>\n"
     ]
    }
   ],
   "source": [
    "print(emp_1)"
   ]
  },
  {
   "cell_type": "code",
   "execution_count": 18,
   "id": "913cf675-9249-4066-9f4e-a5ce56413f31",
   "metadata": {},
   "outputs": [
    {
     "name": "stdout",
     "output_type": "stream",
     "text": [
      "Bob Hoskins 50000 Bob.Hoskins@fullstackacademy.com\n"
     ]
    }
   ],
   "source": [
    "print(emp_1.first, emp_1.last, emp_1.pay, emp_1.email)"
   ]
  },
  {
   "cell_type": "markdown",
   "id": "a5b1e9c8-a913-4c4d-9e7a-5b19ad2d7d09",
   "metadata": {},
   "source": [
    "**Adding Methods**\n",
    "\n",
    "method: A function which is defined inside a class body. If called as an attribute of an instance of that class, the method will get the instance object as its first argument (which is usually called self). See function and nested scope."
   ]
  },
  {
   "cell_type": "code",
   "execution_count": 20,
   "id": "f613178b-e68a-484c-8612-a777b7b75720",
   "metadata": {},
   "outputs": [],
   "source": [
    "class Employee:\n",
    "    \n",
    "    def __init__(self, first, last, pay):   #the instance is called self by convention, name is arbitrary\n",
    "        self.first = first\n",
    "        self.last = last\n",
    "        self.pay = pay\n",
    "        self.email = first + \".\" + last + \"@fullstackacademy.com\" #email doesn't require explicit input\n",
    "    \n",
    "    def fullname(self):      #The self represents one positional argument for your method\n",
    "        return self.first + \" \" + self.last\n",
    "        \n",
    "emp_1 = Employee(\"Bob\",\"Hoskins\",50000)   #emp_1 is set as self and doesn't need to be passed in\n",
    "emp_2 = Employee(\"Lucy\", \"Lawless\",80000)\n",
    "emp_3 = Employee(\"Peter\", \"Griffin\",1000000)"
   ]
  },
  {
   "cell_type": "code",
   "execution_count": 28,
   "id": "45b3b27b-c668-4970-82fe-94678fbf0502",
   "metadata": {},
   "outputs": [
    {
     "name": "stdout",
     "output_type": "stream",
     "text": [
      "['Bob', 'Lucy', 'Peter']\n"
     ]
    }
   ],
   "source": [
    "lst = [emp_1.first, emp_2.first, emp_3.first]\n",
    "print(list(lst))"
   ]
  },
  {
   "cell_type": "code",
   "execution_count": 23,
   "id": "88376d28-d1bd-4449-930e-2003e26907f4",
   "metadata": {},
   "outputs": [
    {
     "data": {
      "text/plain": [
       "'Peter Griffin'"
      ]
     },
     "execution_count": 23,
     "metadata": {},
     "output_type": "execute_result"
    }
   ],
   "source": [
    "emp_3.fullname() # Methods end with ()"
   ]
  },
  {
   "cell_type": "code",
   "execution_count": null,
   "id": "f63a5900-2601-4970-bb99-fd4ed1ef1b75",
   "metadata": {},
   "outputs": [],
   "source": []
  }
 ],
 "metadata": {
  "kernelspec": {
   "display_name": "Python 3 (ipykernel)",
   "language": "python",
   "name": "python3"
  },
  "language_info": {
   "codemirror_mode": {
    "name": "ipython",
    "version": 3
   },
   "file_extension": ".py",
   "mimetype": "text/x-python",
   "name": "python",
   "nbconvert_exporter": "python",
   "pygments_lexer": "ipython3",
   "version": "3.10.9"
  }
 },
 "nbformat": 4,
 "nbformat_minor": 5
}
