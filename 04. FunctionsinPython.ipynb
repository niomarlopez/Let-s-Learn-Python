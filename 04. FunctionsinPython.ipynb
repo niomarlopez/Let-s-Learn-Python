{
 "cells": [
  {
   "cell_type": "markdown",
   "id": "55b413cd-dbb8-4611-b8da-84c51accd972",
   "metadata": {},
   "source": [
    "# Python Module 4 : Functions and Classes\n"
   ]
  },
  {
   "cell_type": "markdown",
   "id": "0f6aa439-0f03-4f1b-9b94-a2c26d0d039a",
   "metadata": {},
   "source": [
    "### Review! Slicing"
   ]
  },
  {
   "cell_type": "code",
   "execution_count": 1,
   "id": "73d3e29a-f61f-4b7c-a828-727c51307f6d",
   "metadata": {},
   "outputs": [],
   "source": [
    "string = 'Supercalifragilisticexpialidocious'"
   ]
  },
  {
   "cell_type": "code",
   "execution_count": 2,
   "id": "ec6cfcf8-d900-421a-9b54-8851b5220754",
   "metadata": {},
   "outputs": [
    {
     "name": "stdout",
     "output_type": "stream",
     "text": [
      "p\n"
     ]
    }
   ],
   "source": [
    "print (string[2])"
   ]
  },
  {
   "cell_type": "code",
   "execution_count": 3,
   "id": "d8b4cc68-d0c0-40bc-8fed-3fc2b6c5724c",
   "metadata": {},
   "outputs": [
    {
     "name": "stdout",
     "output_type": "stream",
     "text": [
      "Super\n"
     ]
    }
   ],
   "source": [
    "print (string[0:5])"
   ]
  },
  {
   "cell_type": "code",
   "execution_count": 4,
   "id": "50dc7330-339b-4fa3-a0f1-9762bec8484f",
   "metadata": {},
   "outputs": [
    {
     "name": "stdout",
     "output_type": "stream",
     "text": [
      "calif\n"
     ]
    }
   ],
   "source": [
    "print (string[5:10])"
   ]
  },
  {
   "cell_type": "code",
   "execution_count": 5,
   "id": "5109200c-c14c-4d4b-aced-e4894ca22407",
   "metadata": {},
   "outputs": [
    {
     "name": "stdout",
     "output_type": "stream",
     "text": [
      "Seafgii\n"
     ]
    }
   ],
   "source": [
    "print (string[0:20:3])"
   ]
  },
  {
   "cell_type": "code",
   "execution_count": null,
   "id": "fe655ceb-f6ac-4681-b872-8312e5cb4f89",
   "metadata": {},
   "outputs": [],
   "source": []
  },
  {
   "cell_type": "markdown",
   "id": "62ae8d24-790b-4d11-8114-18b242351389",
   "metadata": {},
   "source": [
    "### Review! Lists and tuples and sets and dictionaries "
   ]
  },
  {
   "cell_type": "markdown",
   "id": "36dd0d76-a13e-4ba6-ad05-2426e3c1fbaa",
   "metadata": {},
   "source": [
    "### lists[]"
   ]
  },
  {
   "cell_type": "code",
   "execution_count": 6,
   "id": "e19c94c6-dc41-449a-8a79-bc6b9506ae06",
   "metadata": {},
   "outputs": [
    {
     "name": "stdout",
     "output_type": "stream",
     "text": [
      "['dog', 'cat', 'wolf', 'hamster']\n"
     ]
    }
   ],
   "source": [
    "# lists\n",
    "animals = ['dog', 'cat', 'wolf', 'hamster']\n",
    "print (animals)"
   ]
  },
  {
   "cell_type": "code",
   "execution_count": 7,
   "id": "5a547f71-7389-4036-9a58-401ce05d253f",
   "metadata": {},
   "outputs": [
    {
     "name": "stdout",
     "output_type": "stream",
     "text": [
      "hamster\n"
     ]
    }
   ],
   "source": [
    "print (animals[3])"
   ]
  },
  {
   "cell_type": "code",
   "execution_count": 8,
   "id": "e786871a-bfb9-4299-ae75-74b113c869b6",
   "metadata": {},
   "outputs": [
    {
     "name": "stdout",
     "output_type": "stream",
     "text": [
      "['dog', 'wolf']\n"
     ]
    }
   ],
   "source": [
    "print (animals[0:4:2])"
   ]
  },
  {
   "cell_type": "code",
   "execution_count": 9,
   "id": "5bb5cf19-dfd3-4d10-b512-32615017387d",
   "metadata": {},
   "outputs": [],
   "source": [
    "# When you use .pop() w/o a parameter, it'll remove & store the last item in the list\n",
    "# Additionally, you can add an index-number within the parenthesis to specify \n",
    "\n",
    "last_creature = animals.pop()"
   ]
  },
  {
   "cell_type": "code",
   "execution_count": 10,
   "id": "f8ed6c49-4454-41d7-aa47-231bd05c6366",
   "metadata": {},
   "outputs": [
    {
     "name": "stdout",
     "output_type": "stream",
     "text": [
      "hamster\n"
     ]
    }
   ],
   "source": [
    "print (last_creature)"
   ]
  },
  {
   "cell_type": "code",
   "execution_count": 11,
   "id": "27dea6ab-a859-4f02-85ba-ab446d35c72b",
   "metadata": {},
   "outputs": [
    {
     "name": "stdout",
     "output_type": "stream",
     "text": [
      "['dog', 'cat', 'wolf']\n"
     ]
    }
   ],
   "source": [
    "print (animals)"
   ]
  },
  {
   "cell_type": "code",
   "execution_count": 12,
   "id": "b055e479-88b0-4b8f-b3ef-36dd5c07c915",
   "metadata": {},
   "outputs": [],
   "source": [
    "animals.remove('cat')"
   ]
  },
  {
   "cell_type": "code",
   "execution_count": 13,
   "id": "e6139521-5978-43ac-ab7f-829bfe523beb",
   "metadata": {},
   "outputs": [
    {
     "name": "stdout",
     "output_type": "stream",
     "text": [
      "['dog', 'wolf']\n"
     ]
    }
   ],
   "source": [
    "print (animals)"
   ]
  },
  {
   "cell_type": "code",
   "execution_count": 14,
   "id": "f5a9b4d8-3520-49a3-9fbf-5b14e893850b",
   "metadata": {},
   "outputs": [],
   "source": [
    "animals.append('sasquatch')"
   ]
  },
  {
   "cell_type": "code",
   "execution_count": 15,
   "id": "5728de9a-bb68-44dd-898f-0549d70a60ff",
   "metadata": {},
   "outputs": [
    {
     "name": "stdout",
     "output_type": "stream",
     "text": [
      "['dog', 'wolf', 'sasquatch']\n"
     ]
    }
   ],
   "source": [
    "print (animals)"
   ]
  },
  {
   "cell_type": "markdown",
   "id": "0b3726e6-e66d-405d-aee3-705520845340",
   "metadata": {},
   "source": [
    "### tuples ().  "
   ]
  },
  {
   "cell_type": "code",
   "execution_count": 16,
   "id": "39e2ae8b-89d0-4198-a604-f22d34a17be1",
   "metadata": {},
   "outputs": [
    {
     "name": "stdout",
     "output_type": "stream",
     "text": [
      "('butcher', 'baker', 'candlestick maker')\n"
     ]
    }
   ],
   "source": [
    "# tuples\n",
    "people = ('butcher', 'baker', 'candlestick maker')\n",
    "print (people)"
   ]
  },
  {
   "cell_type": "code",
   "execution_count": 17,
   "id": "ff7eab36-baea-40a7-9878-f8f30e8f79ca",
   "metadata": {},
   "outputs": [
    {
     "data": {
      "text/plain": [
       "list"
      ]
     },
     "execution_count": 17,
     "metadata": {},
     "output_type": "execute_result"
    }
   ],
   "source": [
    "type (animals)"
   ]
  },
  {
   "cell_type": "code",
   "execution_count": 18,
   "id": "9a63f146-1296-4eb2-9079-fa9b2ad3ba57",
   "metadata": {},
   "outputs": [
    {
     "data": {
      "text/plain": [
       "tuple"
      ]
     },
     "execution_count": 18,
     "metadata": {},
     "output_type": "execute_result"
    }
   ],
   "source": [
    "type (people)"
   ]
  },
  {
   "cell_type": "markdown",
   "id": "cae6f61e-59bb-446c-8721-56b0fdab671e",
   "metadata": {},
   "source": [
    "### sets"
   ]
  },
  {
   "cell_type": "code",
   "execution_count": 19,
   "id": "7428dda0-18f1-499b-90c6-22f50e20d1b8",
   "metadata": {},
   "outputs": [
    {
     "name": "stdout",
     "output_type": "stream",
     "text": [
      "{'blue', 'red', 'green'}\n"
     ]
    }
   ],
   "source": [
    "# sets - can't be indexed, not subscriptable\n",
    "color = {'red', 'green', 'blue'}\n",
    "print (color)\n"
   ]
  },
  {
   "cell_type": "code",
   "execution_count": 20,
   "id": "d8fa3912-3749-4062-82db-b3e0c9bc7600",
   "metadata": {},
   "outputs": [
    {
     "data": {
      "text/plain": [
       "set"
      ]
     },
     "execution_count": 20,
     "metadata": {},
     "output_type": "execute_result"
    }
   ],
   "source": [
    "type (color)"
   ]
  },
  {
   "cell_type": "code",
   "execution_count": 21,
   "id": "0c138e29-8e40-42af-b6f7-c7bd1721648b",
   "metadata": {},
   "outputs": [
    {
     "ename": "TypeError",
     "evalue": "'set' object is not subscriptable",
     "output_type": "error",
     "traceback": [
      "\u001b[0;31m---------------------------------------------------------------------------\u001b[0m",
      "\u001b[0;31mTypeError\u001b[0m                                 Traceback (most recent call last)",
      "Cell \u001b[0;32mIn[21], line 1\u001b[0m\n\u001b[0;32m----> 1\u001b[0m \u001b[38;5;28mprint\u001b[39m (\u001b[43mcolor\u001b[49m\u001b[43m[\u001b[49m\u001b[38;5;241;43m2\u001b[39;49m\u001b[43m]\u001b[49m)\n\u001b[1;32m      2\u001b[0m \u001b[38;5;66;03m# ???\u001b[39;00m\n",
      "\u001b[0;31mTypeError\u001b[0m: 'set' object is not subscriptable"
     ]
    }
   ],
   "source": [
    "print (color[2])\n",
    "# ???"
   ]
  },
  {
   "cell_type": "markdown",
   "id": "afdb7b4a-0c5c-4683-902f-a03d7236afa0",
   "metadata": {},
   "source": [
    "### dictionaries"
   ]
  },
  {
   "cell_type": "code",
   "execution_count": 22,
   "id": "1f381dd7-a572-4a2c-8a81-80812177da59",
   "metadata": {},
   "outputs": [],
   "source": [
    "# dictionaries\n",
    "\n",
    "cars = {\n",
    "  \"make\": \"Ford\",\n",
    "  \"model\": \"Pinto\",\n",
    "  \"year\": 1972\n",
    "}"
   ]
  },
  {
   "cell_type": "code",
   "execution_count": 23,
   "id": "6ab51576-7e77-460d-9fac-1e8b7e4c44e8",
   "metadata": {},
   "outputs": [
    {
     "name": "stdout",
     "output_type": "stream",
     "text": [
      "{'make': 'Ford', 'model': 'Pinto', 'year': 1972}\n"
     ]
    }
   ],
   "source": [
    "print (cars)"
   ]
  },
  {
   "cell_type": "code",
   "execution_count": 24,
   "id": "9779931c-8df4-4959-bb0f-453ebc75829d",
   "metadata": {},
   "outputs": [
    {
     "data": {
      "text/plain": [
       "dict"
      ]
     },
     "execution_count": 24,
     "metadata": {},
     "output_type": "execute_result"
    }
   ],
   "source": [
    "type (cars)"
   ]
  },
  {
   "cell_type": "code",
   "execution_count": 25,
   "id": "bfd68191-e2a1-4ff4-a33b-a78c9692c88b",
   "metadata": {},
   "outputs": [
    {
     "name": "stdout",
     "output_type": "stream",
     "text": [
      "Ford\n"
     ]
    }
   ],
   "source": [
    "print (cars['make'])"
   ]
  },
  {
   "cell_type": "code",
   "execution_count": 26,
   "id": "185de629-36ea-4e29-8a6d-6aca1b3357f5",
   "metadata": {},
   "outputs": [
    {
     "name": "stdout",
     "output_type": "stream",
     "text": [
      "1972\n"
     ]
    }
   ],
   "source": [
    "print (cars['year'])"
   ]
  },
  {
   "cell_type": "code",
   "execution_count": 27,
   "id": "3e48a33a-69d4-48d9-9e19-8eb5df7c34f1",
   "metadata": {},
   "outputs": [],
   "source": [
    "# Create a list of dictionaries"
   ]
  },
  {
   "cell_type": "code",
   "execution_count": 28,
   "id": "d0a6a4d9-9cb2-456d-88ad-6b2c772e58cb",
   "metadata": {},
   "outputs": [],
   "source": [
    "dogs = [{\"name\": \"Comet\", \"weight\": 68,\"age\": 5}, {\"name\": \"Jack\", \"weight\": 70,\"age\": 2}]"
   ]
  },
  {
   "cell_type": "code",
   "execution_count": 29,
   "id": "b69f5e68-4776-48bc-b4de-f1c2afc36043",
   "metadata": {},
   "outputs": [
    {
     "name": "stdout",
     "output_type": "stream",
     "text": [
      "Comet\n"
     ]
    }
   ],
   "source": [
    "print (dogs[0]['name'])"
   ]
  },
  {
   "cell_type": "code",
   "execution_count": 30,
   "id": "0e702d03-dd38-4368-a402-45907d0cf974",
   "metadata": {},
   "outputs": [
    {
     "name": "stdout",
     "output_type": "stream",
     "text": [
      "Jack\n"
     ]
    }
   ],
   "source": [
    "print (dogs[1]['name'])"
   ]
  },
  {
   "cell_type": "markdown",
   "id": "b3c934f7-94d6-4570-aa84-eb14d5a5806c",
   "metadata": {},
   "source": [
    "## Functions in python"
   ]
  },
  {
   "cell_type": "code",
   "execution_count": 31,
   "id": "372e1e49-5b8d-40aa-91d6-a24657b02918",
   "metadata": {},
   "outputs": [],
   "source": [
    "# function is a block of code that only runs when 'called'  "
   ]
  },
  {
   "cell_type": "code",
   "execution_count": 3,
   "id": "1b19a61b-2ccc-4dd8-afcd-8223a65e7642",
   "metadata": {},
   "outputs": [
    {
     "name": "stdout",
     "output_type": "stream",
     "text": [
      "There are those who call me ... Tim\n",
      "There are those who call me ... Tim\n"
     ]
    }
   ],
   "source": [
    "def call_me_tim():\n",
    "  print(\"There are those who call me ... Tim\")\n",
    "\n",
    "call_me_tim()\n",
    "call_me_tim()"
   ]
  },
  {
   "cell_type": "code",
   "execution_count": null,
   "id": "d93647b6-bef0-49ff-aae4-11eac9053888",
   "metadata": {},
   "outputs": [],
   "source": []
  },
  {
   "cell_type": "code",
   "execution_count": 33,
   "id": "71bdd6d6-750e-446a-960f-181769cdf09f",
   "metadata": {},
   "outputs": [],
   "source": [
    "# passing arguments into a function"
   ]
  },
  {
   "cell_type": "code",
   "execution_count": 5,
   "id": "9b468840-0bc6-46d6-b691-2ae05aa9a2d7",
   "metadata": {},
   "outputs": [
    {
     "name": "stdout",
     "output_type": "stream",
     "text": [
      "Hello, Harry Truman !\n"
     ]
    }
   ],
   "source": [
    "def name_o_matic(fname, lname):\n",
    "  print(\"Hello,\", fname + \" \" + lname,\"!\")\n",
    "\n",
    "name_o_matic(\"Harry\", \"Truman\")"
   ]
  },
  {
   "cell_type": "code",
   "execution_count": 9,
   "id": "0d30c5ac-3298-463d-a55c-1bb5243f2536",
   "metadata": {},
   "outputs": [
    {
     "name": "stdout",
     "output_type": "stream",
     "text": [
      "Hello, Niomar Lopez !\n"
     ]
    }
   ],
   "source": [
    "myfirstname = 'Niomar'\n",
    "mylastname= \"Lopez\"\n",
    "\n",
    "name_o_matic(myfirstname, mylastname)"
   ]
  },
  {
   "cell_type": "code",
   "execution_count": 35,
   "id": "99cc656d-4e53-4b69-8a3c-8440ea6cf17a",
   "metadata": {},
   "outputs": [],
   "source": [
    "# default argument is defined and only used if no argument is provided during the 'call'"
   ]
  },
  {
   "cell_type": "code",
   "execution_count": 36,
   "id": "f5921e18-6871-4b83-a055-9ba1d4a24da7",
   "metadata": {
    "tags": []
   },
   "outputs": [
    {
     "name": "stdout",
     "output_type": "stream",
     "text": [
      "I am from Canada\n",
      "I am from India\n",
      "I am from The People's Republic of New Jersey\n",
      "I am from Brazil\n"
     ]
    }
   ],
   "source": [
    "def my_home(country = \"The People's Republic of New Jersey\"):\n",
    "  print(\"I am from \" + country)\n",
    "\n",
    "my_home(\"Canada\")\n",
    "my_home(\"India\")\n",
    "my_home()\n",
    "my_home(\"Brazil\")"
   ]
  },
  {
   "cell_type": "code",
   "execution_count": 37,
   "id": "19b5be58-64b8-409d-84dd-56e6c537d86e",
   "metadata": {},
   "outputs": [],
   "source": [
    "# return values are optional and can be assigned to a variable when the function is called"
   ]
  },
  {
   "cell_type": "code",
   "execution_count": 38,
   "id": "e5ba6b57-0da3-425f-8d0b-b1149929c73c",
   "metadata": {},
   "outputs": [
    {
     "name": "stdout",
     "output_type": "stream",
     "text": [
      "15\n",
      "80\n"
     ]
    }
   ],
   "source": [
    "def multiply_by_5(x):\n",
    "  return 5 * x\n",
    "\n",
    "x=multiply_by_5(3)\n",
    "print (x)\n",
    "y=multiply_by_5(16)\n",
    "print (y)"
   ]
  },
  {
   "cell_type": "code",
   "execution_count": 41,
   "id": "3b0133a0-7450-4250-9e72-d06aec6b998a",
   "metadata": {},
   "outputs": [
    {
     "name": "stdout",
     "output_type": "stream",
     "text": [
      "50\n"
     ]
    }
   ],
   "source": [
    "# recursion \n",
    "x=multiply_by_5(multiply_by_5(2))\n",
    "print (x)"
   ]
  },
  {
   "cell_type": "code",
   "execution_count": null,
   "id": "a3c60374-4494-4037-a177-08905931ddb4",
   "metadata": {},
   "outputs": [],
   "source": []
  },
  {
   "cell_type": "code",
   "execution_count": 12,
   "id": "d9ceb17a-32e6-4031-9dcb-d08cca2e56df",
   "metadata": {},
   "outputs": [],
   "source": [
    "# Define a function that converts degrees centigrade to degrees fahreheit\n",
    "\n",
    "def C2F(temp_c):\n",
    "    return \"Temp Centigrade: \" + str(temp_c) + \"-- Temp Fahrenheit: \" + str(temp_c * 9/5 + 32)"
   ]
  },
  {
   "cell_type": "code",
   "execution_count": 11,
   "id": "a29bd9e9-eeab-4d2e-83c1-0a001153ebce",
   "metadata": {},
   "outputs": [
    {
     "data": {
      "text/plain": [
       "'Temp Centigrade: 35-- Temp Fahrenheit: 95.0'"
      ]
     },
     "execution_count": 11,
     "metadata": {},
     "output_type": "execute_result"
    }
   ],
   "source": [
    "# Call the function at any time to use the conversion\n",
    "\n",
    "C2F(35)"
   ]
  },
  {
   "cell_type": "code",
   "execution_count": null,
   "id": "66f40b22-713a-4482-8f0b-d4ef99fcbbd2",
   "metadata": {},
   "outputs": [],
   "source": []
  },
  {
   "cell_type": "markdown",
   "id": "aae62498-8981-4086-8afd-6d54d3afdb39",
   "metadata": {},
   "source": [
    "### 1.2 Lambda Expressions: \n",
    "`lambda input_name: formula_for_output`"
   ]
  },
  {
   "cell_type": "code",
   "execution_count": 42,
   "id": "b097d155-ce20-478a-a75e-6468660abb88",
   "metadata": {},
   "outputs": [
    {
     "data": {
      "text/plain": [
       "<function __main__.<lambda>(temp_celcius)>"
      ]
     },
     "execution_count": 42,
     "metadata": {},
     "output_type": "execute_result"
    }
   ],
   "source": [
    "# Create a lambda expression\n",
    "\n",
    "lambda temp_celcius: \"Temp Fahrenheit: \" + str(temp_celcius * 9/5 + 32)\n",
    "\n",
    "#the function is not named and therefore anonymous"
   ]
  },
  {
   "cell_type": "markdown",
   "id": "4519a8e6-2802-4792-ae7b-4700acaf64f2",
   "metadata": {},
   "source": [
    "To use the function we will need to name it"
   ]
  },
  {
   "cell_type": "code",
   "execution_count": 43,
   "id": "400c0c1f-b306-43f7-8712-b28281ddb43f",
   "metadata": {},
   "outputs": [],
   "source": [
    "convert = lambda temp_celcius: \"Temp Fahrenheit: \" + str(temp_celcius * 9/5 + 32)"
   ]
  },
  {
   "cell_type": "markdown",
   "id": "346c5d4d-6f58-403e-b5f6-0b514cfce745",
   "metadata": {},
   "source": [
    "Having named the function we can now use it\n"
   ]
  },
  {
   "cell_type": "code",
   "execution_count": 44,
   "id": "b86e2445-7bfe-4e51-b3bb-36436376d2ec",
   "metadata": {},
   "outputs": [
    {
     "data": {
      "text/plain": [
       "'Temp Fahrenheit: 95.0'"
      ]
     },
     "execution_count": 44,
     "metadata": {},
     "output_type": "execute_result"
    }
   ],
   "source": [
    "convert(35)"
   ]
  },
  {
   "cell_type": "code",
   "execution_count": 45,
   "id": "57c33cea-5b72-4a31-a1a5-992cb40d44ad",
   "metadata": {},
   "outputs": [],
   "source": [
    "integers = [1,2,3,4,5,6,7,8,9,10]"
   ]
  },
  {
   "cell_type": "code",
   "execution_count": 20,
   "id": "ea0077a9-50bc-4b52-9491-467be38f3a13",
   "metadata": {},
   "outputs": [],
   "source": [
    "print(list(map(lambda x: x*x, integers)))"
   ]
  },
  {
   "cell_type": "code",
   "execution_count": 21,
   "id": "9e0a2f0b-10dd-4de6-8597-2c5c128eaf35",
   "metadata": {},
   "outputs": [
    {
     "name": "stdout",
     "output_type": "stream",
     "text": [
      "[41.0, 50.0, 39.2, 53.6, 69.80000000000001, 75.2, 50.0]\n"
     ]
    }
   ],
   "source": [
    "centigrade_list = [5, 10 , 4, 12, 21, 24, 10]\n",
    "fahrenheit_list = list(map(lambda degree_celcius : degree_celcius * 1.8 + 32, centigrade_list))\n",
    "\n",
    "print(fahrenheit_list)"
   ]
  },
  {
   "cell_type": "code",
   "execution_count": null,
   "id": "ce77e63c-376b-4333-8277-3ffd5852a6c1",
   "metadata": {},
   "outputs": [],
   "source": []
  }
 ],
 "metadata": {
  "kernelspec": {
   "display_name": "Python 3 (ipykernel)",
   "language": "python",
   "name": "python3"
  },
  "language_info": {
   "codemirror_mode": {
    "name": "ipython",
    "version": 3
   },
   "file_extension": ".py",
   "mimetype": "text/x-python",
   "name": "python",
   "nbconvert_exporter": "python",
   "pygments_lexer": "ipython3",
   "version": "3.10.9"
  }
 },
 "nbformat": 4,
 "nbformat_minor": 5
}
