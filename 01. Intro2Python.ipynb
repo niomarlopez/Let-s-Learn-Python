{
 "cells": [
  {
   "cell_type": "code",
   "execution_count": 1,
   "id": "46ef7c97-2596-4637-bb34-c601397b2884",
   "metadata": {},
   "outputs": [
    {
     "name": "stdout",
     "output_type": "stream",
     "text": [
      "Hello World\n"
     ]
    }
   ],
   "source": [
    "# Using the print function to run \"Hello World\"\n",
    "\n",
    "print(\"Hello World\")"
   ]
  },
  {
   "cell_type": "code",
   "execution_count": 2,
   "id": "b550db66-51c6-41d4-978e-29d0a22e0a53",
   "metadata": {},
   "outputs": [
    {
     "name": "stdout",
     "output_type": "stream",
     "text": [
      "10\n"
     ]
    }
   ],
   "source": [
    "# Assigning a value to a variable and printing said variable\n",
    "\n",
    "x = 10\n",
    "\n",
    "print(x)"
   ]
  },
  {
   "cell_type": "code",
   "execution_count": 3,
   "id": "afe78114-b90b-4c93-acda-3fd3aab2c681",
   "metadata": {},
   "outputs": [
    {
     "name": "stdout",
     "output_type": "stream",
     "text": [
      "1000\n"
     ]
    }
   ],
   "source": [
    "# We can use mathematical operators to calculate a number using a variable\n",
    "\n",
    "x = x*100\n",
    "print(x)"
   ]
  },
  {
   "cell_type": "code",
   "execution_count": 4,
   "id": "fb4a4f5f-fa80-46c9-b393-3e307c7565e2",
   "metadata": {},
   "outputs": [
    {
     "name": "stdout",
     "output_type": "stream",
     "text": [
      "['Vanilla', 'Chocolate', 'Mint Chocolate Chip']\n"
     ]
    }
   ],
   "source": [
    "ice_cream = ['Vanilla','Chocolate','Mint Chocolate Chip']\n",
    "\n",
    "print(ice_cream)"
   ]
  },
  {
   "cell_type": "code",
   "execution_count": 5,
   "id": "4b37d0d3-50fc-4dc8-b1f4-56c27e026fdb",
   "metadata": {},
   "outputs": [
    {
     "name": "stdout",
     "output_type": "stream",
     "text": [
      "Chocolate\n"
     ]
    }
   ],
   "source": [
    "x,y,z = ice_cream\n",
    "\n",
    "print(y)"
   ]
  },
  {
   "cell_type": "code",
   "execution_count": 6,
   "id": "0528b0bb-d925-402c-ba24-390e2fa9efe3",
   "metadata": {},
   "outputs": [
    {
     "name": "stdout",
     "output_type": "stream",
     "text": [
      "I want Chocolate ice cream.\n"
     ]
    }
   ],
   "source": [
    "print(\"I want \" + y + \" ice cream.\")"
   ]
  },
  {
   "cell_type": "code",
   "execution_count": null,
   "id": "2dfebb29-c162-4264-a1ba-9bf374a2050e",
   "metadata": {},
   "outputs": [],
   "source": []
  },
  {
   "cell_type": "code",
   "execution_count": null,
   "id": "508d84dd-52b3-4f3e-86ed-ed86277d009f",
   "metadata": {},
   "outputs": [],
   "source": []
  },
  {
   "cell_type": "code",
   "execution_count": null,
   "id": "1a0b9b0d-6d6f-41ef-a8e3-b414f30eb806",
   "metadata": {},
   "outputs": [],
   "source": []
  },
  {
   "cell_type": "code",
   "execution_count": null,
   "id": "ab01a89c-525a-462a-a32f-28782bc50be5",
   "metadata": {},
   "outputs": [],
   "source": []
  }
 ],
 "metadata": {
  "kernelspec": {
   "display_name": "Python 3 (ipykernel)",
   "language": "python",
   "name": "python3"
  },
  "language_info": {
   "codemirror_mode": {
    "name": "ipython",
    "version": 3
   },
   "file_extension": ".py",
   "mimetype": "text/x-python",
   "name": "python",
   "nbconvert_exporter": "python",
   "pygments_lexer": "ipython3",
   "version": "3.10.9"
  }
 },
 "nbformat": 4,
 "nbformat_minor": 5
}
